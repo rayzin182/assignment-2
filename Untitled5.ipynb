{
  "nbformat": 4,
  "nbformat_minor": 0,
  "metadata": {
    "colab": {
      "provenance": [],
      "authorship_tag": "ABX9TyOTLZfzZq8VyqGVpZLFIs05",
      "include_colab_link": true
    },
    "kernelspec": {
      "name": "python3",
      "display_name": "Python 3"
    },
    "language_info": {
      "name": "python"
    }
  },
  "cells": [
    {
      "cell_type": "markdown",
      "metadata": {
        "id": "view-in-github",
        "colab_type": "text"
      },
      "source": [
        "<a href=\"https://colab.research.google.com/github/rayzin182/assignment-2/blob/main/Untitled5.ipynb\" target=\"_parent\"><img src=\"https://colab.research.google.com/assets/colab-badge.svg\" alt=\"Open In Colab\"/></a>"
      ]
    },
    {
      "cell_type": "markdown",
      "source": [
        "To begin with the program the first thing is i need a space to store details of employes so i used a dictionary final_file ={} to store the data and next thing was to get the character as input so i used n = int(input(\"Enter the number of employee\")) but the issue was it will give me a error if we put the character it will accept because intiger accept char and numeric data . As a solution i used try break and except to solve the issues. with a comment print(\"please try using numeric value\")"
      ],
      "metadata": {
        "id": "JxFjXjU_hJyr"
      }
    },
    {
      "cell_type": "markdown",
      "source": [],
      "metadata": {
        "id": "jEocc00PjZPK"
      }
    },
    {
      "cell_type": "code",
      "execution_count": 4,
      "metadata": {
        "colab": {
          "base_uri": "https://localhost:8080/"
        },
        "id": "xLthwyoSgeT5",
        "outputId": "9b875092-c6bb-4dc0-8af4-785fad16936f"
      },
      "outputs": [
        {
          "name": "stdout",
          "output_type": "stream",
          "text": [
            "Enter the number of employee1\n"
          ]
        }
      ],
      "source": [
        "final_file = {} #stores all the details of the employees\n",
        "while True:\n",
        "  try:\n",
        "    n = int(input(\"Enter the number of employee\")) \n",
        "    break\n",
        "  except:\n",
        "    print(\"please try using numeric value\")\n",
        "\n"
      ]
    },
    {
      "cell_type": "markdown",
      "source": [
        "Now the number of employ that we want to put in it was solved i started with object employee to store the collection of data. To take a continous number of data one after anothe i prefered using \"for \"loop to taking all multiple entries. I give the range (n) to take multiple data till nth term. The problem with the code was to verify the character is only inserted character.\n",
        "Next thing is to determine employee sales with comparision and assigning the percentage accordingly."
      ],
      "metadata": {
        "id": "IazF4HbCjYeH"
      }
    },
    {
      "cell_type": "code",
      "source": [
        "employee = {} #object for each employee\n",
        "for i in range(n):\n",
        "    #Taking all the input and allocating it with the object employee\n",
        "    employee['name'] = input(\"name: \")\n",
        "\n",
        "    employee['sale1'] = int(input(\"sale1: \"))\n",
        "    employee['sale2'] = int(input(\"sale2: \"))\n",
        "    employee['sale3'] = int(input(\"sale3: \"))\n",
        "    employee['sale4'] = int(input(\"sale4: \"))\n",
        "    \n",
        "    #Determining if its 45% or 30% commission and assigning the correct one\n",
        "    if employee['sale1'] > 2000:\n",
        "        employee['comm1'] = int(0.45*employee['sale1'])\n",
        "    else:\n",
        "        employee['comm1'] = int(0.3*employee['sale1'])\n",
        "        \n",
        "    if employee['sale2'] > 2000:\n",
        "        employee['comm2'] = int(0.45*employee['sale2'])\n",
        "    else:\n",
        "        employee['comm2'] = int(0.3*employee['sale2'])\n",
        "        \n",
        "    if employee['sale3'] > 2000:\n",
        "        employee['comm3'] = int(0.45*employee['sale3'])\n",
        "    else:\n",
        "        employee['comm3'] = int(0.3*employee['sale3'])\n",
        "    \n",
        "    if employee['sale4'] > 2000:\n",
        "        employee['comm4'] = int(0.45*employee['sale4'])\n",
        "    else:\n",
        "        employee['comm4'] = int(0.3*employee['sale4'])\n",
        "    \n",
        "   "
      ],
      "metadata": {
        "id": "W6M9hfBnhFTA"
      },
      "execution_count": null,
      "outputs": []
    },
    {
      "cell_type": "markdown",
      "source": [
        "after calculating the employes sales the monthly payment is recuired to calcualate. since every employee is getting a basic salary of $500. The program adds the base salary for each employee"
      ],
      "metadata": {
        "id": "msqVehsW45Dh"
      }
    },
    {
      "cell_type": "markdown",
      "source": [],
      "metadata": {
        "id": "3hCYjkwyQTbT"
      }
    },
    {
      "cell_type": "code",
      "source": [
        " #Calculating monthly pay of the employee\n",
        "    employee['pay1'] = employee['comm1'] + 500\n",
        "    employee['pay2'] = employee['comm2'] + 500\n",
        "    employee['pay3'] = employee['comm3'] + 500\n",
        "    employee['pay4'] = employee['comm4'] + 500\n",
        "    \n",
        "   "
      ],
      "metadata": {
        "id": "GQ10yE2UQR5H"
      },
      "execution_count": null,
      "outputs": []
    },
    {
      "cell_type": "markdown",
      "source": [],
      "metadata": {
        "id": "-3NzcAkSQgBv"
      }
    },
    {
      "cell_type": "markdown",
      "source": [
        "Now after the salary there is another requirement to store all the calcualted data to a file so I is a viarable that store each employee data on it.\n",
        "The employee ={} is a null section because the details of employee should be caleared to allocate it to the next one. the next steps that i used is to dump the jeson files as making it as a object.\n",
        "Next is to open the jeson file and write in it i used the syntax with open(\"employee.json\",\"w\") as file to invoke the employee data.\n",
        "Then program use three null section average sales, average commision and monthly pay to store the calculated data in a array."
      ],
      "metadata": {
        "id": "isBhPyg9Rmf9"
      }
    },
    {
      "cell_type": "code",
      "source": [
        " #allocating the employee object to final file\n",
        "    final_file[i] = employee\n",
        "    \n",
        "    #removing details of present employee to allocate it to next one\n",
        "    employee = {}\n",
        "    \n",
        "import json\n",
        "\n",
        "#dumping the dictionary file to json\n",
        "json_object = json.dumps(final_file, indent=3)\n",
        "#opening the json file and writing contents from json_object and saving it\n",
        "with open(\"employee.json\", \"w\") as file:\n",
        "    file.write(json_object)\n",
        "    \n",
        "avg_sales = [] #To store avg sale for each employee\n",
        "avg_comm = [] #To store avg sale for each employee\n",
        "monthly_pay = [] #To store avg sale for each employee\n",
        "\n"
      ],
      "metadata": {
        "id": "8kuixl0vQfoh"
      },
      "execution_count": null,
      "outputs": []
    },
    {
      "cell_type": "markdown",
      "source": [
        "This program generally loads the jeson file and give a read only option so no change are made in this function. The retrive data that was stored perviously will be opened and the files will be loaded in files with command loaded_file=json.load(file)\n",
        "The program use a loop to give a range and assign a key value so that the data are punctuated accordingly. in last array is created as name=[null] just to store the data after assigning the key value."
      ],
      "metadata": {
        "id": "wEKhpxu5TG0d"
      }
    },
    {
      "cell_type": "code",
      "source": [
        "\n",
        "#loading the json file which contains employee data\n",
        "with open(\"employee.json\", \"r\") as file:\n",
        "    loaded_file = json.load(file)\n",
        "    \n",
        "#iterating through each (key,value) pair of the loaded file\n",
        "for i in range(len(loaded_file)):\n",
        "    key = str(i)\n",
        "    #calculating average sale\n",
        "    avgSale = (loaded_file[key]['sale1'] +loaded_file[key]['sale2'] + loaded_file[key]['sale3'] + loaded_file[key]['sale4'])/4\n",
        "    \n",
        "    #calculating average commission\n",
        "    avgComm = (loaded_file[key]['comm1'] +loaded_file[key]['comm2'] + loaded_file[key]['comm3'] + loaded_file[key]['comm4'])/4\n",
        "    \n",
        "    #calculating monthly pay\n",
        "    monthlyPay = loaded_file[key]['pay1'] +loaded_file[key]['pay2'] + loaded_file[key]['pay3'] + loaded_file[key]['pay4']\n",
        "    \n",
        "    #adding the calucated avgSale, avgComm, monthlyPay to their respected list\n",
        "    avg_sales.append(avgSale)\n",
        "    avg_comm.append(avgComm)\n",
        "    monthly_pay.append(monthlyPay)\n",
        "\n",
        "names = [] #To store name of each employee\n",
        "sale1 = [] #To store sale1 of each employee\n",
        "sale2 = [] #To store sale2 of each employee\n",
        "sale3 = [] #To store sale3 of each employee\n",
        "sale4 = [] #To store sale4 of each employee\n",
        "\n"
      ],
      "metadata": {
        "id": "jXLiyJW0Qq_4"
      },
      "execution_count": null,
      "outputs": []
    },
    {
      "cell_type": "markdown",
      "source": [],
      "metadata": {
        "id": "ERldzwwZUECy"
      }
    },
    {
      "cell_type": "markdown",
      "source": [
        "This programs the previous all range of data and presented in bar graph. The import numpy as np and next import matplotlib.pyplot as plt. These import are made to plot the data in scale and range form , simalarly matplotlib to generate a graph diagram for the given data.\n",
        "N= len(final_file) is used to allocating all range of data in n varaiable.\n",
        "bar1 = ply.bar(ind,sales1,width, color ='r') this command plot the data in a bar and 'r' is short form of red color defination."
      ],
      "metadata": {
        "id": "tQAwkZuPUTlv"
      }
    },
    {
      "cell_type": "code",
      "source": [
        "#iterating through the loaded file\n",
        "for i in range(len(loaded_file)):\n",
        "    key = str(i)\n",
        "    \n",
        "    #appending name of the employee to list names\n",
        "    names.append(loaded_file[key]['name'])\n",
        "    \n",
        "    #appending sale1, sale2, sale3, sale4 values to their corresponding list \n",
        "    sale1.append(loaded_file[key]['sale1'])\n",
        "    sale2.append(loaded_file[key]['sale2'])\n",
        "    sale3.append(loaded_file[key]['sale3'])\n",
        "    sale4.append(loaded_file[key]['sale4'])\n",
        "\n",
        "import numpy as np\n",
        "import matplotlib.pyplot as plt\n",
        "  \n",
        "N = len(final_file) #allocating n\n",
        "ind = np.arange(N) \n",
        "width = 0.2 #defining width of the bar\n",
        "  \n",
        "#Bar for sale 1\n",
        "bar1 = plt.bar(ind, sale1, width, color = 'r') \n",
        "  \n",
        "#Bar for sale 2\n",
        "bar2 = plt.bar(ind+width, sale2, width, color='g')\n",
        "\n",
        "#Bar for sale 3\n",
        "bar3 = plt.bar(ind+width*2, sale3, width, color = 'b')\n",
        "\n",
        "#Bar for sale 4\n",
        "bar4 = plt.bar(ind+width*3, sale4, width, color = 'y')\n",
        "\n",
        "#Title of the plot\n",
        "plt.title(\"Weekly Sales for the Month by Sales Employees\")\n",
        "\n",
        "#Assigning legends\n",
        "plt.legend((bar1, bar2, bar3, bar4), (\"Week 1\", \"Week 2\", \"Week 3\", \"Week 4\"))\n",
        "plt.xticks(ind+width,names)\n",
        "\n",
        "#Displaying the plot\n",
        "plt.show()\n",
        "\n",
        "\n"
      ],
      "metadata": {
        "id": "2uD5MyAdQ2v9"
      },
      "execution_count": null,
      "outputs": []
    },
    {
      "cell_type": "markdown",
      "source": [
        "After the ploting the graph of sales the next task was to plot the monthly pay, average commision and sales so the previous import is used to this program as well and it calcualte and render the graph form."
      ],
      "metadata": {
        "id": "96PSr2LFVbWO"
      }
    },
    {
      "cell_type": "code",
      "source": [
        "n = len(avg_sales) #allocating n\n",
        "ind = np.arange(n) \n",
        "width = 0.3 #defining width of the bar\n",
        "  \n",
        "#Bar for monthly pay\n",
        "Bar1 = plt.bar(ind, monthly_pay, width, color = 'grey')\n",
        "\n",
        "#Bar for avg comm\n",
        "Bar2 = plt.bar(ind+width, avg_comm, width, color='orange')\n",
        "\n",
        "#Bar for avg sales\n",
        "Bar3 = plt.bar(ind+width*2, avg_sales, width, color='blue')\n",
        "\n",
        "#Title of the plot\n",
        "plt.title(\"Monthly Average Sales, Commision and Pay Earned by Employees\")\n",
        "plt.xticks(ind+width,names)\n",
        "\n",
        "#Assigning legends\n",
        "plt.legend((Bar1, Bar2, Bar3), (\"Monthly pay \", \"Monthly Comm\", \"Avg Sales\"))\n",
        "\n",
        "#Displaying the plot\n",
        "plt.show()"
      ],
      "metadata": {
        "id": "32tHLBw_Q8sL"
      },
      "execution_count": null,
      "outputs": []
    },
    {
      "cell_type": "markdown",
      "source": [
        "Final program so the issue in previous proble is solved using the while true condition and using try catch. The program was tacking the character in section for number of employe number. the line 1 to 7 has been changed. basically in this program while true condition is used . inside that command the try condition is checked. if the n = int(inpute(\"enter the number of employee\")) is not satisfied it will break the program trigger the except comment.\n",
        "\n",
        "Next issued was in  #Taking all the input and allocating it with the object employee line 12 where the input section for employee name was taking the integer value.so i import the regex as import re.\n",
        "**refrence**\n",
        "https://stackoverflow.com/questions/47877144/validate-name-using-python-regex\n"
      ],
      "metadata": {
        "id": "G2lq5rPQV7HR"
      }
    },
    {
      "cell_type": "code",
      "source": [
        "\n",
        "import re\n",
        "import pandas as pd\n",
        "import numpy as np\n",
        "import matplotlib.pyplot as plt\n",
        "\n",
        "\n",
        "final_file = {} #stores all the details of the employees\n",
        "while True:\n",
        "  try:\n",
        "    n = int(input(\"Enter the number of employee\")) \n",
        "    break\n",
        "  except:\n",
        "    print(\"please try using numeric value\")\n",
        "\n",
        "employee = {} #object for each employee\n",
        "\n",
        "#function to validate name\n",
        "def validateName(name):\n",
        "    if re.fullmatch('[A-Za-z]{2,25}( [A-Za-z]{2,25})?', name):\n",
        "        return True\n",
        "    return False\n",
        "\n",
        "for i in range(n):\n",
        "    #Taking all the input and allocating it with the object employee\n",
        "    while True:\n",
        "        name = input(\"name: \")\n",
        "        if validateName(name):\n",
        "            employee['name'] = name\n",
        "            break\n",
        "        else:\n",
        "            print(\"Incorrect Name\")\n",
        "            \n",
        "    employee['sale1'] = int(input(\"sale1: \"))\n",
        "    employee['sale2'] = int(input(\"sale2: \"))\n",
        "    employee['sale3'] = int(input(\"sale3: \"))\n",
        "    employee['sale4'] = int(input(\"sale4: \"))\n",
        "    \n",
        "    #Determining if its 45% or 30% commission and assigning the correct one\n",
        "    if employee['sale1'] > 2000:\n",
        "        employee['comm1'] = int(0.45*employee['sale1'])\n",
        "    else:\n",
        "        employee['comm1'] = int(0.3*employee['sale1'])\n",
        "        \n",
        "    if employee['sale2'] > 2000:\n",
        "        employee['comm2'] = int(0.45*employee['sale2'])\n",
        "    else:\n",
        "        employee['comm2'] = int(0.3*employee['sale2'])\n",
        "        \n",
        "    if employee['sale3'] > 2000:\n",
        "        employee['comm3'] = int(0.45*employee['sale3'])\n",
        "    else:\n",
        "        employee['comm3'] = int(0.3*employee['sale3'])\n",
        "    \n",
        "    if employee['sale4'] > 2000:\n",
        "        employee['comm4'] = int(0.45*employee['sale4'])\n",
        "    else:\n",
        "        employee['comm4'] = int(0.3*employee['sale4'])\n",
        "    \n",
        "    #Calculating monthly pay of the employee\n",
        "    employee['pay1'] = employee['comm1'] + 500\n",
        "    employee['pay2'] = employee['comm2'] + 500\n",
        "    employee['pay3'] = employee['comm3'] + 500\n",
        "    employee['pay4'] = employee['comm4'] + 500\n",
        "    \n",
        "    #allocating the employee object to final file\n",
        "    final_file[i] = employee\n",
        "    \n",
        "    #removing details of present employee to allocate it to next one\n",
        "    employee = {}\n",
        "    \n",
        "import json\n",
        "\n",
        "#dumping the dictionary file to json\n",
        "json_object = json.dumps(final_file, indent=3)\n",
        "\n",
        "#opening the json file and writing contents from json_object and saving it\n",
        "with open(\"employee.json\", \"w\") as file:\n",
        "    file.write(json_object)\n",
        "    \n",
        "    \n",
        "#saving employee data to excel file\n",
        "json_file = pd.read_json(\"employee.json\")\n",
        "json_file.to_excel(\"employee.xlsx\")\n",
        "    \n",
        "avg_sales = [] #To store avg sale for each employee\n",
        "avg_comm = [] #To store avg sale for each employee\n",
        "monthly_pay = [] #To store avg sale for each employee\n",
        "\n",
        "#loading the json file which contains employee data\n",
        "with open(\"employee.json\", \"r\") as file:\n",
        "    loaded_file = json.load(file)\n",
        "    \n",
        "#iterating through each (key,value) pair of the loaded file\n",
        "for i in range(len(loaded_file)):\n",
        "    key = str(i)\n",
        "    #calculating average sale\n",
        "    avgSale = (loaded_file[key]['sale1'] +loaded_file[key]['sale2'] + loaded_file[key]['sale3'] + loaded_file[key]['sale4'])/4\n",
        "    \n",
        "    #calculating average commission\n",
        "    avgComm = (loaded_file[key]['comm1'] +loaded_file[key]['comm2'] + loaded_file[key]['comm3'] + loaded_file[key]['comm4'])/4\n",
        "    \n",
        "    #calculating monthly pay\n",
        "    monthlyPay = loaded_file[key]['pay1'] +loaded_file[key]['pay2'] + loaded_file[key]['pay3'] + loaded_file[key]['pay4']\n",
        "    \n",
        "    #adding the calucated avgSale, avgComm, monthlyPay to their respected list\n",
        "    avg_sales.append(avgSale)\n",
        "    avg_comm.append(avgComm)\n",
        "    monthly_pay.append(monthlyPay)\n",
        "\n",
        "names = [] #To store name of each employee\n",
        "sale1 = [] #To store sale1 of each employee\n",
        "sale2 = [] #To store sale2 of each employee\n",
        "sale3 = [] #To store sale3 of each employee\n",
        "sale4 = [] #To store sale4 of each employee\n",
        "\n",
        "#iterating through the loaded file\n",
        "for i in range(len(loaded_file)):\n",
        "    key = str(i)\n",
        "    \n",
        "    #appending name of the employee to list names\n",
        "    names.append(loaded_file[key]['name'])\n",
        "    \n",
        "    #appending sale1, sale2, sale3, sale4 values to their corresponding list \n",
        "    sale1.append(loaded_file[key]['sale1'])\n",
        "    sale2.append(loaded_file[key]['sale2'])\n",
        "    sale3.append(loaded_file[key]['sale3'])\n",
        "    sale4.append(loaded_file[key]['sale4'])\n",
        "  \n",
        "N = len(sale1) #allocating n\n",
        "ind = np.arange(N) \n",
        "width = 0.2 #defining width of the bar\n",
        "  \n",
        "#Bar for sale 1\n",
        "bar1 = plt.bar(ind, sale1, width, color = 'r') \n",
        "  \n",
        "#Bar for sale 2\n",
        "bar2 = plt.bar(ind+width, sale2, width, color='g')\n",
        "\n",
        "#Bar for sale 3\n",
        "bar3 = plt.bar(ind+width*2, sale3, width, color = 'b')\n",
        "\n",
        "#Bar for sale 4\n",
        "bar4 = plt.bar(ind+width*3, sale4, width, color = 'y')\n",
        "\n",
        "#Title of the plot\n",
        "plt.title(\"Weekly Sales for the Month by Sales Employees\")\n",
        "\n",
        "#Assigning legends\n",
        "plt.legend((bar1, bar2, bar3, bar4), (\"Week 1\", \"Week 2\", \"Week 3\", \"Week 4\"))\n",
        "plt.xticks(ind+width,names)\n",
        "\n",
        "#Displaying the plot\n",
        "plt.show()\n",
        "\n",
        "\n",
        "n = len(avg_sales) #allocating n\n",
        "ind = np.arange(n) \n",
        "width = 0.3 #defining width of the bar\n",
        "  \n",
        "#Bar for monthly pay\n",
        "Bar1 = plt.bar(ind, monthly_pay, width, color = 'grey')\n",
        "\n",
        "#Bar for avg comm\n",
        "Bar2 = plt.bar(ind+width, avg_comm, width, color='orange')\n",
        "\n",
        "#Bar for avg sales\n",
        "Bar3 = plt.bar(ind+width*2, avg_sales, width, color='blue')\n",
        "\n",
        "#Title of the plot\n",
        "plt.title(\"Monthly Average Sales, Commision and Pay Earned by Employees\")\n",
        "plt.xticks(ind+width,names)\n",
        "\n",
        "#Assigning legends\n",
        "plt.legend((Bar1, Bar2, Bar3), (\"Monthly pay \", \"Monthly Comm\", \"Avg Sales\"))\n",
        "\n",
        "#Displaying the plot\n",
        "plt.show()"
      ],
      "metadata": {
        "colab": {
          "base_uri": "https://localhost:8080/",
          "height": 736
        },
        "id": "Lk8TQisDV5zf",
        "outputId": "8c6fe812-e93f-4808-8236-cbb25a5a5a5d"
      },
      "execution_count": 13,
      "outputs": [
        {
          "name": "stdout",
          "output_type": "stream",
          "text": [
            "Enter the number of employee2\n",
            "name: uop\n",
            "sale1: 2\n",
            "sale2: 6\n",
            "sale3: 8\n",
            "sale4: 9\n",
            "name: tap\n",
            "sale1: 5\n",
            "sale2: 9\n",
            "sale3: 8\n",
            "sale4: 6\n"
          ]
        },
        {
          "output_type": "display_data",
          "data": {
            "text/plain": [
              "<Figure size 432x288 with 1 Axes>"
            ],
            "image/png": "[encoded data removed]"
          },
          "metadata": {
            "needs_background": "light"
          }
        },
        {
          "output_type": "display_data",
          "data": {
            "text/plain": [
              "<Figure size 432x288 with 1 Axes>"
            ],
            "image/png": "[encoded data removed]"
          },
          "metadata": {
            "needs_background": "light"
          }
        }
      ]
    },
    {
      "cell_type": "markdown",
      "source": [
        "# New Section"
      ],
      "metadata": {
        "id": "nh4F6Z3s-chP"
      }
    },
    {
      "cell_type": "markdown",
      "source": [
        "After getting employee name and sales intries i need to"
      ],
      "metadata": {
        "id": "F16GPdn1oVUr"
      }
    },
    {
      "cell_type": "markdown",
      "source": [],
      "metadata": {
        "id": "J4CN19vGjah7"
      }
    }
  ]
}